{
 "cells": [
  {
   "cell_type": "markdown",
   "id": "bf154e67-6c51-4f9d-a194-b8bd1f77f696",
   "metadata": {},
   "source": [
    "<p><a href=\"https://www.asu.edu.eg/\"><img align=\"right\" src=\"https://ums.asu.edu.eg/images/logo.png\" width=\"100\" /></a></p>\n",
    "<div align=left>\n",
    "<h1>\n",
    "  Body Signal of Smoking 🚭\n",
    "</h1>\n",
    "    <h5>\n",
    "        Data Analytics project\n",
    "    </h5>\n",
    "</div>\n",
    "<br>\n",
    "<br>"
   ]
  },
  {
   "cell_type": "markdown",
   "id": "0aa20fad-2e9a-425a-a96f-a1285d54fee3",
   "metadata": {},
   "source": [
    "## Introduction\n",
    "This dataset is a collection of basic health biological signal data.\n",
    "The goal is to determine the presence or absence of smoking through bio-signals."
   ]
  },
  {
   "cell_type": "markdown",
   "id": "b88abd5a-f670-46ba-a84c-94793dd3b6df",
   "metadata": {},
   "source": [
    "## All libraries we need through the notebook"
   ]
  },
  {
   "cell_type": "code",
   "execution_count": 1,
   "id": "18cedfe6-9191-4335-8cb6-05ea7381f449",
   "metadata": {
    "tags": []
   },
   "outputs": [],
   "source": [
    "import numpy as np \n",
    "import pandas as pd \n",
    "import matplotlib.pyplot as plt\n",
    "import seaborn as sns"
   ]
  },
  {
   "cell_type": "markdown",
   "id": "e68a2479-1f65-4679-b211-40716c2bc803",
   "metadata": {},
   "source": [
    "## Reading the dataset"
   ]
  },
  {
   "cell_type": "code",
   "execution_count": 2,
   "id": "765f8a6c-37c7-4d9d-9c4a-4fd95c4d7b88",
   "metadata": {
    "tags": []
   },
   "outputs": [
    {
     "data": {
      "text/html": [
       "<div>\n",
       "<style scoped>\n",
       "    .dataframe tbody tr th:only-of-type {\n",
       "        vertical-align: middle;\n",
       "    }\n",
       "\n",
       "    .dataframe tbody tr th {\n",
       "        vertical-align: top;\n",
       "    }\n",
       "\n",
       "    .dataframe thead th {\n",
       "        text-align: right;\n",
       "    }\n",
       "</style>\n",
       "<table border=\"1\" class=\"dataframe\">\n",
       "  <thead>\n",
       "    <tr style=\"text-align: right;\">\n",
       "      <th></th>\n",
       "      <th>ID</th>\n",
       "      <th>gender</th>\n",
       "      <th>age</th>\n",
       "      <th>height(cm)</th>\n",
       "      <th>weight(kg)</th>\n",
       "      <th>waist(cm)</th>\n",
       "      <th>eyesight(left)</th>\n",
       "      <th>eyesight(right)</th>\n",
       "      <th>hearing(left)</th>\n",
       "      <th>hearing(right)</th>\n",
       "      <th>...</th>\n",
       "      <th>hemoglobin</th>\n",
       "      <th>Urine protein</th>\n",
       "      <th>serum creatinine</th>\n",
       "      <th>AST</th>\n",
       "      <th>ALT</th>\n",
       "      <th>Gtp</th>\n",
       "      <th>oral</th>\n",
       "      <th>dental caries</th>\n",
       "      <th>tartar</th>\n",
       "      <th>smoking</th>\n",
       "    </tr>\n",
       "  </thead>\n",
       "  <tbody>\n",
       "    <tr>\n",
       "      <th>0</th>\n",
       "      <td>0</td>\n",
       "      <td>F</td>\n",
       "      <td>40</td>\n",
       "      <td>155</td>\n",
       "      <td>60</td>\n",
       "      <td>81.3</td>\n",
       "      <td>1.2</td>\n",
       "      <td>1.0</td>\n",
       "      <td>1</td>\n",
       "      <td>1</td>\n",
       "      <td>...</td>\n",
       "      <td>12.9</td>\n",
       "      <td>1</td>\n",
       "      <td>0.7</td>\n",
       "      <td>18</td>\n",
       "      <td>19</td>\n",
       "      <td>27</td>\n",
       "      <td>Y</td>\n",
       "      <td>0</td>\n",
       "      <td>Y</td>\n",
       "      <td>N</td>\n",
       "    </tr>\n",
       "    <tr>\n",
       "      <th>1</th>\n",
       "      <td>1</td>\n",
       "      <td>F</td>\n",
       "      <td>40</td>\n",
       "      <td>160</td>\n",
       "      <td>60</td>\n",
       "      <td>81.0</td>\n",
       "      <td>0.8</td>\n",
       "      <td>0.6</td>\n",
       "      <td>1</td>\n",
       "      <td>1</td>\n",
       "      <td>...</td>\n",
       "      <td>12.7</td>\n",
       "      <td>1</td>\n",
       "      <td>0.6</td>\n",
       "      <td>22</td>\n",
       "      <td>19</td>\n",
       "      <td>18</td>\n",
       "      <td>Y</td>\n",
       "      <td>0</td>\n",
       "      <td>Y</td>\n",
       "      <td>N</td>\n",
       "    </tr>\n",
       "    <tr>\n",
       "      <th>2</th>\n",
       "      <td>2</td>\n",
       "      <td>M</td>\n",
       "      <td>55</td>\n",
       "      <td>170</td>\n",
       "      <td>60</td>\n",
       "      <td>80.0</td>\n",
       "      <td>0.8</td>\n",
       "      <td>0.8</td>\n",
       "      <td>1</td>\n",
       "      <td>1</td>\n",
       "      <td>...</td>\n",
       "      <td>15.8</td>\n",
       "      <td>1</td>\n",
       "      <td>1.0</td>\n",
       "      <td>21</td>\n",
       "      <td>16</td>\n",
       "      <td>22</td>\n",
       "      <td>Y</td>\n",
       "      <td>0</td>\n",
       "      <td>N</td>\n",
       "      <td>Y</td>\n",
       "    </tr>\n",
       "    <tr>\n",
       "      <th>3</th>\n",
       "      <td>3</td>\n",
       "      <td>M</td>\n",
       "      <td>40</td>\n",
       "      <td>165</td>\n",
       "      <td>70</td>\n",
       "      <td>88.0</td>\n",
       "      <td>1.5</td>\n",
       "      <td>1.5</td>\n",
       "      <td>1</td>\n",
       "      <td>1</td>\n",
       "      <td>...</td>\n",
       "      <td>14.7</td>\n",
       "      <td>1</td>\n",
       "      <td>1.0</td>\n",
       "      <td>19</td>\n",
       "      <td>26</td>\n",
       "      <td>18</td>\n",
       "      <td>Y</td>\n",
       "      <td>0</td>\n",
       "      <td>Y</td>\n",
       "      <td>N</td>\n",
       "    </tr>\n",
       "    <tr>\n",
       "      <th>4</th>\n",
       "      <td>4</td>\n",
       "      <td>F</td>\n",
       "      <td>40</td>\n",
       "      <td>155</td>\n",
       "      <td>60</td>\n",
       "      <td>86.0</td>\n",
       "      <td>1.0</td>\n",
       "      <td>1.0</td>\n",
       "      <td>1</td>\n",
       "      <td>1</td>\n",
       "      <td>...</td>\n",
       "      <td>12.5</td>\n",
       "      <td>1</td>\n",
       "      <td>0.6</td>\n",
       "      <td>16</td>\n",
       "      <td>14</td>\n",
       "      <td>22</td>\n",
       "      <td>Y</td>\n",
       "      <td>0</td>\n",
       "      <td>N</td>\n",
       "      <td>N</td>\n",
       "    </tr>\n",
       "  </tbody>\n",
       "</table>\n",
       "<p>5 rows × 27 columns</p>\n",
       "</div>"
      ],
      "text/plain": [
       "   ID gender  age  height(cm)  weight(kg)  waist(cm)  eyesight(left)  \\\n",
       "0   0      F   40         155          60       81.3             1.2   \n",
       "1   1      F   40         160          60       81.0             0.8   \n",
       "2   2      M   55         170          60       80.0             0.8   \n",
       "3   3      M   40         165          70       88.0             1.5   \n",
       "4   4      F   40         155          60       86.0             1.0   \n",
       "\n",
       "   eyesight(right)  hearing(left)  hearing(right)  ...  hemoglobin  \\\n",
       "0              1.0              1               1  ...        12.9   \n",
       "1              0.6              1               1  ...        12.7   \n",
       "2              0.8              1               1  ...        15.8   \n",
       "3              1.5              1               1  ...        14.7   \n",
       "4              1.0              1               1  ...        12.5   \n",
       "\n",
       "   Urine protein  serum creatinine  AST  ALT  Gtp  oral  dental caries  \\\n",
       "0              1               0.7   18   19   27     Y              0   \n",
       "1              1               0.6   22   19   18     Y              0   \n",
       "2              1               1.0   21   16   22     Y              0   \n",
       "3              1               1.0   19   26   18     Y              0   \n",
       "4              1               0.6   16   14   22     Y              0   \n",
       "\n",
       "   tartar  smoking  \n",
       "0       Y        N  \n",
       "1       Y        N  \n",
       "2       N        Y  \n",
       "3       Y        N  \n",
       "4       N        N  \n",
       "\n",
       "[5 rows x 27 columns]"
      ]
     },
     "execution_count": 2,
     "metadata": {},
     "output_type": "execute_result"
    }
   ],
   "source": [
    "df = pd.read_csv('smoking.csv')\n",
    "df.head()"
   ]
  },
  {
   "cell_type": "code",
   "execution_count": 3,
   "id": "323ee880-2c5a-4994-ae29-3186a31ac8eb",
   "metadata": {
    "tags": []
   },
   "outputs": [
    {
     "data": {
      "text/plain": [
       "Index(['ID', 'gender', 'age', 'height(cm)', 'weight(kg)', 'waist(cm)',\n",
       "       'eyesight(left)', 'eyesight(right)', 'hearing(left)', 'hearing(right)',\n",
       "       'systolic', 'relaxation', 'fasting blood sugar', 'Cholesterol',\n",
       "       'triglyceride', 'HDL', 'LDL', 'hemoglobin', 'Urine protein',\n",
       "       'serum creatinine', 'AST', 'ALT', 'Gtp', 'oral', 'dental caries',\n",
       "       'tartar', 'smoking'],\n",
       "      dtype='object')"
      ]
     },
     "execution_count": 3,
     "metadata": {},
     "output_type": "execute_result"
    }
   ],
   "source": [
    "df.columns"
   ]
  },
  {
   "cell_type": "code",
   "execution_count": 4,
   "id": "ea7647b1-6f68-462e-97bb-51af0cd54751",
   "metadata": {
    "tags": []
   },
   "outputs": [
    {
     "name": "stdout",
     "output_type": "stream",
     "text": [
      "<class 'pandas.core.frame.DataFrame'>\n",
      "RangeIndex: 55692 entries, 0 to 55691\n",
      "Data columns (total 27 columns):\n",
      " #   Column               Non-Null Count  Dtype  \n",
      "---  ------               --------------  -----  \n",
      " 0   ID                   55692 non-null  int64  \n",
      " 1   gender               55692 non-null  object \n",
      " 2   age                  55692 non-null  int64  \n",
      " 3   height(cm)           55692 non-null  int64  \n",
      " 4   weight(kg)           55692 non-null  int64  \n",
      " 5   waist(cm)            55692 non-null  float64\n",
      " 6   eyesight(left)       55692 non-null  float64\n",
      " 7   eyesight(right)      55692 non-null  float64\n",
      " 8   hearing(left)        55692 non-null  int64  \n",
      " 9   hearing(right)       55692 non-null  int64  \n",
      " 10  systolic             55692 non-null  int64  \n",
      " 11  relaxation           55692 non-null  int64  \n",
      " 12  fasting blood sugar  55692 non-null  int64  \n",
      " 13  Cholesterol          55692 non-null  int64  \n",
      " 14  triglyceride         55692 non-null  int64  \n",
      " 15  HDL                  55692 non-null  int64  \n",
      " 16  LDL                  55692 non-null  int64  \n",
      " 17  hemoglobin           55692 non-null  float64\n",
      " 18  Urine protein        55692 non-null  int64  \n",
      " 19  serum creatinine     55692 non-null  float64\n",
      " 20  AST                  55692 non-null  int64  \n",
      " 21  ALT                  55692 non-null  int64  \n",
      " 22  Gtp                  55692 non-null  int64  \n",
      " 23  oral                 55692 non-null  object \n",
      " 24  dental caries        55692 non-null  int64  \n",
      " 25  tartar               55692 non-null  object \n",
      " 26  smoking              55692 non-null  object \n",
      "dtypes: float64(5), int64(18), object(4)\n",
      "memory usage: 11.5+ MB\n"
     ]
    }
   ],
   "source": [
    "df.info()"
   ]
  },
  {
   "cell_type": "markdown",
   "id": "2996c5fb-7797-49d9-92ff-ab5e41ffcb03",
   "metadata": {},
   "source": [
    "####\n",
    "#### We see thet the dataset attributes are divided into dependent and independent attributes.\n",
    "#### The inedependent attributes are :\n",
    "- ID : index\n",
    "- gender\n",
    "- age : 5-years gap\n",
    "- height(cm)\n",
    "- weight(kg)\n",
    "- waist(cm) : Waist circumference length\n",
    "- eyesight(left)\n",
    "- eyesight(right)\n",
    "- hearing(left)\n",
    "- hearing(right)\n",
    "- systolic : Blood pressure\n",
    "- relaxation : Blood pressure\n",
    "- fasting blood sugar\n",
    "- Cholesterol : total\n",
    "- triglyceride\n",
    "- HDL : cholesterol type\n",
    "- LDL : cholesterol type\n",
    "- hemoglobin\n",
    "- Urine protein\n",
    "- serum creatinine\n",
    "- AST : glutamic oxaloacetic transaminase type\n",
    "- ALT : glutamic oxaloacetic transaminase type\n",
    "- Gtp : γ-GTP\n",
    "- oral : Oral Examination status\n",
    "- dental caries\n",
    "- tartar : tartar status<br>\n",
    "#### The dependent attribute or (The target variable) is :\n",
    "- smoking: NO smoking = N, YES smoking = Y"
   ]
  },
  {
   "cell_type": "markdown",
   "id": "7ab1bf0d-7e91-4179-8b58-9ee9540b0f68",
   "metadata": {},
   "source": [
    "# Data Cleaning"
   ]
  },
  {
   "cell_type": "code",
   "execution_count": 5,
   "id": "10831f97-c4da-4888-88b7-317c26bf33ee",
   "metadata": {
    "tags": []
   },
   "outputs": [
    {
     "data": {
      "text/plain": [
       "ID                     0\n",
       "gender                 0\n",
       "age                    0\n",
       "height(cm)             0\n",
       "weight(kg)             0\n",
       "waist(cm)              0\n",
       "eyesight(left)         0\n",
       "eyesight(right)        0\n",
       "hearing(left)          0\n",
       "hearing(right)         0\n",
       "systolic               0\n",
       "relaxation             0\n",
       "fasting blood sugar    0\n",
       "Cholesterol            0\n",
       "triglyceride           0\n",
       "HDL                    0\n",
       "LDL                    0\n",
       "hemoglobin             0\n",
       "Urine protein          0\n",
       "serum creatinine       0\n",
       "AST                    0\n",
       "ALT                    0\n",
       "Gtp                    0\n",
       "oral                   0\n",
       "dental caries          0\n",
       "tartar                 0\n",
       "smoking                0\n",
       "dtype: int64"
      ]
     },
     "execution_count": 5,
     "metadata": {},
     "output_type": "execute_result"
    }
   ],
   "source": [
    "# Checking the nulls\n",
    "df.isnull().sum()"
   ]
  },
  {
   "cell_type": "code",
   "execution_count": 6,
   "id": "3ac9bb60-1528-4782-837d-b560fb243729",
   "metadata": {
    "tags": []
   },
   "outputs": [
    {
     "data": {
      "text/plain": [
       "(55692, 27)"
      ]
     },
     "execution_count": 6,
     "metadata": {},
     "output_type": "execute_result"
    }
   ],
   "source": [
    "df.shape"
   ]
  },
  {
   "cell_type": "code",
   "execution_count": 7,
   "id": "e23159da-91fa-4c2a-bf5e-acf4d0835ba4",
   "metadata": {
    "tags": []
   },
   "outputs": [],
   "source": [
    "# Droping the redundant data\n",
    "df = df.drop_duplicates()"
   ]
  },
  {
   "cell_type": "code",
   "execution_count": 8,
   "id": "69cb2ffc-9236-43a5-a412-2afc88c1f2ba",
   "metadata": {
    "tags": []
   },
   "outputs": [
    {
     "data": {
      "text/plain": [
       "(55692, 27)"
      ]
     },
     "execution_count": 8,
     "metadata": {},
     "output_type": "execute_result"
    }
   ],
   "source": [
    "df.shape"
   ]
  },
  {
   "cell_type": "markdown",
   "id": "65167496-6605-406e-860e-fe4a337d04bb",
   "metadata": {},
   "source": [
    "##### We see that there is no nulls and no redunduncy in our dataset<br>"
   ]
  },
  {
   "cell_type": "markdown",
   "id": "50070136-3e60-4354-a21d-f9192880dc0b",
   "metadata": {},
   "source": [
    "### Checking and Removing the Outliers"
   ]
  },
  {
   "cell_type": "code",
   "execution_count": 9,
   "id": "a6257288-9ce5-47ff-9fa4-14950bab5cbf",
   "metadata": {
    "tags": []
   },
   "outputs": [
    {
     "data": {
      "image/png": "[encoded data removed]",
      "text/plain": [
       "<Figure size 2800x800 with 1 Axes>"
      ]
     },
     "metadata": {},
     "output_type": "display_data"
    }
   ],
   "source": [
    "# Specify the columns to plot\n",
    "numeric_cols = ['age', 'height(cm)', 'weight(kg)', 'waist(cm)', 'eyesight(left)', 'eyesight(right)', 'hearing(left)', 'hearing(right)', 'systolic', 'relaxation', 'fasting blood sugar', 'Cholesterol', 'triglyceride', 'HDL', 'LDL', 'hemoglobin', 'Urine protein', 'AST', 'ALT', 'Gtp', 'dental caries']\n",
    "\n",
    "# Create a figure and axis object\n",
    "fig, ax = plt.subplots(figsize=(28,8))\n",
    "\n",
    "# Create the boxplot\n",
    "df[numeric_cols].boxplot(ax=ax)\n",
    "\n",
    "# Set the plot title\n",
    "ax.set_title('Boxplot of Numerical Columns')\n",
    "\n",
    "# Show the plot\n",
    "plt.show()"
   ]
  },
  {
   "cell_type": "markdown",
   "id": "aceb8b7e-f7a5-476b-ac89-29cb8438338f",
   "metadata": {},
   "source": [
    "##### Here we use IQR to detect the outliers and be able to remove them"
   ]
  },
  {
   "cell_type": "code",
   "execution_count": 10,
   "id": "11e471bf-f269-4c05-a062-7afb64eae6dd",
   "metadata": {
    "tags": []
   },
   "outputs": [],
   "source": [
    "for x in ['age', 'height(cm)', 'weight(kg)', 'waist(cm)', 'eyesight(left)', 'eyesight(right)', 'hearing(left)', 'hearing(right)', 'systolic', 'relaxation', 'fasting blood sugar', 'Cholesterol', 'triglyceride', 'HDL', 'LDL', 'hemoglobin', 'Urine protein', 'AST', 'ALT', 'Gtp', 'dental caries']:\n",
    "    q75,q25 = np.percentile(df.loc[:,x],[75,25])\n",
    "    intr_qr = q75-q25\n",
    " \n",
    "    max = q75+(1.5*intr_qr)\n",
    "    min = q25-(1.5*intr_qr)\n",
    " \n",
    "    df.loc[df[x] < min,x] = np.nan\n",
    "    df.loc[df[x] > max,x] = np.nan"
   ]
  },
  {
   "cell_type": "code",
   "execution_count": 11,
   "id": "830d079a-a115-430b-8630-d913144b7f4d",
   "metadata": {
    "tags": []
   },
   "outputs": [
    {
     "data": {
      "text/plain": [
       "ID                         0\n",
       "gender                     0\n",
       "age                      295\n",
       "height(cm)               249\n",
       "weight(kg)               198\n",
       "waist(cm)                496\n",
       "eyesight(left)          1314\n",
       "eyesight(right)         1357\n",
       "hearing(left)           1425\n",
       "hearing(right)          1456\n",
       "systolic                 685\n",
       "relaxation               706\n",
       "fasting blood sugar     3298\n",
       "Cholesterol              605\n",
       "triglyceride            2256\n",
       "HDL                     1011\n",
       "LDL                      634\n",
       "hemoglobin               669\n",
       "Urine protein           3093\n",
       "serum creatinine           0\n",
       "AST                     3699\n",
       "ALT                     3710\n",
       "Gtp                     5019\n",
       "oral                       0\n",
       "dental caries          11881\n",
       "tartar                     0\n",
       "smoking                    0\n",
       "dtype: int64"
      ]
     },
     "execution_count": 11,
     "metadata": {},
     "output_type": "execute_result"
    }
   ],
   "source": [
    "df.isnull().sum()"
   ]
  },
  {
   "cell_type": "markdown",
   "id": "712b3e59-b4d0-41ab-878f-a03b0e0d7370",
   "metadata": {},
   "source": [
    "- As we can see, we removed the outliers .. now we must replace these null values with median"
   ]
  },
  {
   "cell_type": "code",
   "execution_count": 12,
   "id": "74d0ec0b-c6d4-403b-8a89-ebbbb7975cc3",
   "metadata": {
    "tags": []
   },
   "outputs": [],
   "source": [
    "df['age'] = df['age'].fillna(df['age'].median())\n",
    "df['height(cm)'] = df['height(cm)'].fillna(df['height(cm)'].median())\n",
    "df['weight(kg)'] = df['weight(kg)'].fillna(df['weight(kg)'].median())\n",
    "df['waist(cm)'] = df['waist(cm)'].fillna(df['waist(cm)'].median())\n",
    "df['eyesight(left)'] = df['eyesight(left)'].fillna(df['eyesight(left)'].median())\n",
    "df['eyesight(right)'] = df['eyesight(right)'].fillna(df['eyesight(right)'].median())\n",
    "df['hearing(left)'] = df['hearing(left)'].fillna(df['hearing(left)'].median())\n",
    "df['hearing(right)'] = df['hearing(right)'].fillna(df['hearing(right)'].median())\n",
    "df['systolic'] = df['systolic'].fillna(df['systolic'].median())\n",
    "df['relaxation'] = df['relaxation'].fillna(df['relaxation'].median())\n",
    "df['fasting blood sugar'] = df['fasting blood sugar'].fillna(df['fasting blood sugar'].median())\n",
    "df['Cholesterol'] = df['Cholesterol'].fillna(df['Cholesterol'].median())\n",
    "df['triglyceride'] = df['triglyceride'].fillna(df['triglyceride'].median())\n",
    "df['HDL'] = df['HDL'].fillna(df['HDL'].median())\n",
    "df['LDL'] = df['LDL'].fillna(df['LDL'].median())\n",
    "df['hemoglobin'] = df['hemoglobin'].fillna(df['hemoglobin'].median())\n",
    "df['Urine protein'] = df['Urine protein'].fillna(df['Urine protein'].median())\n",
    "df['AST'] = df['AST'].fillna(df['AST'].median())\n",
    "df['ALT'] = df['ALT'].fillna(df['ALT'].median())\n",
    "df['Gtp'] = df['Gtp'].fillna(df['Gtp'].median())\n",
    "df['dental caries'] = df['dental caries'].fillna(df['dental caries'].median())"
   ]
  },
  {
   "cell_type": "code",
   "execution_count": 13,
   "id": "8a665cb3-095b-46d5-a6f2-786bc9f037d9",
   "metadata": {
    "tags": []
   },
   "outputs": [
    {
     "data": {
      "text/plain": [
       "ID                     0\n",
       "gender                 0\n",
       "age                    0\n",
       "height(cm)             0\n",
       "weight(kg)             0\n",
       "waist(cm)              0\n",
       "eyesight(left)         0\n",
       "eyesight(right)        0\n",
       "hearing(left)          0\n",
       "hearing(right)         0\n",
       "systolic               0\n",
       "relaxation             0\n",
       "fasting blood sugar    0\n",
       "Cholesterol            0\n",
       "triglyceride           0\n",
       "HDL                    0\n",
       "LDL                    0\n",
       "hemoglobin             0\n",
       "Urine protein          0\n",
       "serum creatinine       0\n",
       "AST                    0\n",
       "ALT                    0\n",
       "Gtp                    0\n",
       "oral                   0\n",
       "dental caries          0\n",
       "tartar                 0\n",
       "smoking                0\n",
       "dtype: int64"
      ]
     },
     "execution_count": 13,
     "metadata": {},
     "output_type": "execute_result"
    }
   ],
   "source": [
    "df.isnull().sum()"
   ]
  },
  {
   "cell_type": "code",
   "execution_count": 14,
   "id": "20e8b3aa-d77b-4ada-9b86-7368237d6a73",
   "metadata": {
    "tags": []
   },
   "outputs": [
    {
     "data": {
      "text/plain": [
       "(55692, 27)"
      ]
     },
     "execution_count": 14,
     "metadata": {},
     "output_type": "execute_result"
    }
   ],
   "source": [
    "df.shape"
   ]
  },
  {
   "cell_type": "markdown",
   "id": "bc23d546-d71d-4725-8c03-cd714f278410",
   "metadata": {},
   "source": [
    "# Data Exploration and Visualization"
   ]
  },
  {
   "cell_type": "code",
   "execution_count": 15,
   "id": "7ebc7505-1f49-451a-9593-a9bdd5af1026",
   "metadata": {
    "tags": []
   },
   "outputs": [
    {
     "data": {
      "text/html": [
       "<div>\n",
       "<style scoped>\n",
       "    .dataframe tbody tr th:only-of-type {\n",
       "        vertical-align: middle;\n",
       "    }\n",
       "\n",
       "    .dataframe tbody tr th {\n",
       "        vertical-align: top;\n",
       "    }\n",
       "\n",
       "    .dataframe thead th {\n",
       "        text-align: right;\n",
       "    }\n",
       "</style>\n",
       "<table border=\"1\" class=\"dataframe\">\n",
       "  <thead>\n",
       "    <tr style=\"text-align: right;\">\n",
       "      <th></th>\n",
       "      <th>ID</th>\n",
       "      <th>age</th>\n",
       "      <th>height(cm)</th>\n",
       "      <th>weight(kg)</th>\n",
       "      <th>waist(cm)</th>\n",
       "      <th>eyesight(left)</th>\n",
       "      <th>eyesight(right)</th>\n",
       "      <th>hearing(left)</th>\n",
       "      <th>hearing(right)</th>\n",
       "      <th>systolic</th>\n",
       "      <th>...</th>\n",
       "      <th>triglyceride</th>\n",
       "      <th>HDL</th>\n",
       "      <th>LDL</th>\n",
       "      <th>hemoglobin</th>\n",
       "      <th>Urine protein</th>\n",
       "      <th>serum creatinine</th>\n",
       "      <th>AST</th>\n",
       "      <th>ALT</th>\n",
       "      <th>Gtp</th>\n",
       "      <th>dental caries</th>\n",
       "    </tr>\n",
       "  </thead>\n",
       "  <tbody>\n",
       "    <tr>\n",
       "      <th>count</th>\n",
       "      <td>55692.000000</td>\n",
       "      <td>55692.000000</td>\n",
       "      <td>55692.000000</td>\n",
       "      <td>55692.000000</td>\n",
       "      <td>55692.000000</td>\n",
       "      <td>55692.000000</td>\n",
       "      <td>55692.000000</td>\n",
       "      <td>55692.0</td>\n",
       "      <td>55692.0</td>\n",
       "      <td>55692.000000</td>\n",
       "      <td>...</td>\n",
       "      <td>55692.000000</td>\n",
       "      <td>55692.000000</td>\n",
       "      <td>55692.000000</td>\n",
       "      <td>55692.000000</td>\n",
       "      <td>55692.0</td>\n",
       "      <td>55692.000000</td>\n",
       "      <td>55692.000000</td>\n",
       "      <td>55692.000000</td>\n",
       "      <td>55692.000000</td>\n",
       "      <td>55692.0</td>\n",
       "    </tr>\n",
       "    <tr>\n",
       "      <th>mean</th>\n",
       "      <td>27845.500000</td>\n",
       "      <td>43.969690</td>\n",
       "      <td>164.728597</td>\n",
       "      <td>65.692380</td>\n",
       "      <td>81.825110</td>\n",
       "      <td>1.003060</td>\n",
       "      <td>0.999384</td>\n",
       "      <td>1.0</td>\n",
       "      <td>1.0</td>\n",
       "      <td>120.969852</td>\n",
       "      <td>...</td>\n",
       "      <td>117.328216</td>\n",
       "      <td>56.406198</td>\n",
       "      <td>113.581071</td>\n",
       "      <td>14.687151</td>\n",
       "      <td>1.0</td>\n",
       "      <td>0.885738</td>\n",
       "      <td>23.284888</td>\n",
       "      <td>22.418516</td>\n",
       "      <td>28.298984</td>\n",
       "      <td>0.0</td>\n",
       "    </tr>\n",
       "    <tr>\n",
       "      <th>std</th>\n",
       "      <td>16077.039933</td>\n",
       "      <td>11.784214</td>\n",
       "      <td>9.041852</td>\n",
       "      <td>12.496504</td>\n",
       "      <td>8.868184</td>\n",
       "      <td>0.297692</td>\n",
       "      <td>0.295418</td>\n",
       "      <td>0.0</td>\n",
       "      <td>0.0</td>\n",
       "      <td>12.647474</td>\n",
       "      <td>...</td>\n",
       "      <td>56.973165</td>\n",
       "      <td>12.975121</td>\n",
       "      <td>31.473993</td>\n",
       "      <td>1.437215</td>\n",
       "      <td>0.0</td>\n",
       "      <td>0.221524</td>\n",
       "      <td>5.955118</td>\n",
       "      <td>10.070267</td>\n",
       "      <td>15.757805</td>\n",
       "      <td>0.0</td>\n",
       "    </tr>\n",
       "    <tr>\n",
       "      <th>min</th>\n",
       "      <td>0.000000</td>\n",
       "      <td>20.000000</td>\n",
       "      <td>145.000000</td>\n",
       "      <td>30.000000</td>\n",
       "      <td>58.000000</td>\n",
       "      <td>0.300000</td>\n",
       "      <td>0.300000</td>\n",
       "      <td>1.0</td>\n",
       "      <td>1.0</td>\n",
       "      <td>85.000000</td>\n",
       "      <td>...</td>\n",
       "      <td>8.000000</td>\n",
       "      <td>21.000000</td>\n",
       "      <td>26.000000</td>\n",
       "      <td>10.300000</td>\n",
       "      <td>1.0</td>\n",
       "      <td>0.100000</td>\n",
       "      <td>6.000000</td>\n",
       "      <td>1.000000</td>\n",
       "      <td>1.000000</td>\n",
       "      <td>0.0</td>\n",
       "    </tr>\n",
       "    <tr>\n",
       "      <th>25%</th>\n",
       "      <td>13922.750000</td>\n",
       "      <td>40.000000</td>\n",
       "      <td>160.000000</td>\n",
       "      <td>55.000000</td>\n",
       "      <td>76.000000</td>\n",
       "      <td>0.800000</td>\n",
       "      <td>0.800000</td>\n",
       "      <td>1.0</td>\n",
       "      <td>1.0</td>\n",
       "      <td>112.000000</td>\n",
       "      <td>...</td>\n",
       "      <td>74.000000</td>\n",
       "      <td>47.000000</td>\n",
       "      <td>92.000000</td>\n",
       "      <td>13.600000</td>\n",
       "      <td>1.0</td>\n",
       "      <td>0.800000</td>\n",
       "      <td>19.000000</td>\n",
       "      <td>15.000000</td>\n",
       "      <td>17.000000</td>\n",
       "      <td>0.0</td>\n",
       "    </tr>\n",
       "    <tr>\n",
       "      <th>50%</th>\n",
       "      <td>27845.500000</td>\n",
       "      <td>40.000000</td>\n",
       "      <td>165.000000</td>\n",
       "      <td>65.000000</td>\n",
       "      <td>82.000000</td>\n",
       "      <td>1.000000</td>\n",
       "      <td>1.000000</td>\n",
       "      <td>1.0</td>\n",
       "      <td>1.0</td>\n",
       "      <td>120.000000</td>\n",
       "      <td>...</td>\n",
       "      <td>105.000000</td>\n",
       "      <td>55.000000</td>\n",
       "      <td>112.000000</td>\n",
       "      <td>14.800000</td>\n",
       "      <td>1.0</td>\n",
       "      <td>0.900000</td>\n",
       "      <td>22.000000</td>\n",
       "      <td>20.000000</td>\n",
       "      <td>24.000000</td>\n",
       "      <td>0.0</td>\n",
       "    </tr>\n",
       "    <tr>\n",
       "      <th>75%</th>\n",
       "      <td>41768.250000</td>\n",
       "      <td>55.000000</td>\n",
       "      <td>170.000000</td>\n",
       "      <td>75.000000</td>\n",
       "      <td>88.000000</td>\n",
       "      <td>1.200000</td>\n",
       "      <td>1.200000</td>\n",
       "      <td>1.0</td>\n",
       "      <td>1.0</td>\n",
       "      <td>130.000000</td>\n",
       "      <td>...</td>\n",
       "      <td>148.000000</td>\n",
       "      <td>65.000000</td>\n",
       "      <td>135.000000</td>\n",
       "      <td>15.800000</td>\n",
       "      <td>1.0</td>\n",
       "      <td>1.000000</td>\n",
       "      <td>27.000000</td>\n",
       "      <td>27.000000</td>\n",
       "      <td>35.000000</td>\n",
       "      <td>0.0</td>\n",
       "    </tr>\n",
       "    <tr>\n",
       "      <th>max</th>\n",
       "      <td>55691.000000</td>\n",
       "      <td>75.000000</td>\n",
       "      <td>185.000000</td>\n",
       "      <td>105.000000</td>\n",
       "      <td>106.000000</td>\n",
       "      <td>1.600000</td>\n",
       "      <td>1.600000</td>\n",
       "      <td>1.0</td>\n",
       "      <td>1.0</td>\n",
       "      <td>157.000000</td>\n",
       "      <td>...</td>\n",
       "      <td>289.000000</td>\n",
       "      <td>94.000000</td>\n",
       "      <td>202.000000</td>\n",
       "      <td>19.100000</td>\n",
       "      <td>1.0</td>\n",
       "      <td>11.600000</td>\n",
       "      <td>41.000000</td>\n",
       "      <td>55.000000</td>\n",
       "      <td>82.000000</td>\n",
       "      <td>0.0</td>\n",
       "    </tr>\n",
       "  </tbody>\n",
       "</table>\n",
       "<p>8 rows × 23 columns</p>\n",
       "</div>"
      ],
      "text/plain": [
       "                 ID           age    height(cm)    weight(kg)     waist(cm)  \\\n",
       "count  55692.000000  55692.000000  55692.000000  55692.000000  55692.000000   \n",
       "mean   27845.500000     43.969690    164.728597     65.692380     81.825110   \n",
       "std    16077.039933     11.784214      9.041852     12.496504      8.868184   \n",
       "min        0.000000     20.000000    145.000000     30.000000     58.000000   \n",
       "25%    13922.750000     40.000000    160.000000     55.000000     76.000000   \n",
       "50%    27845.500000     40.000000    165.000000     65.000000     82.000000   \n",
       "75%    41768.250000     55.000000    170.000000     75.000000     88.000000   \n",
       "max    55691.000000     75.000000    185.000000    105.000000    106.000000   \n",
       "\n",
       "       eyesight(left)  eyesight(right)  hearing(left)  hearing(right)  \\\n",
       "count    55692.000000     55692.000000        55692.0         55692.0   \n",
       "mean         1.003060         0.999384            1.0             1.0   \n",
       "std          0.297692         0.295418            0.0             0.0   \n",
       "min          0.300000         0.300000            1.0             1.0   \n",
       "25%          0.800000         0.800000            1.0             1.0   \n",
       "50%          1.000000         1.000000            1.0             1.0   \n",
       "75%          1.200000         1.200000            1.0             1.0   \n",
       "max          1.600000         1.600000            1.0             1.0   \n",
       "\n",
       "           systolic  ...  triglyceride           HDL           LDL  \\\n",
       "count  55692.000000  ...  55692.000000  55692.000000  55692.000000   \n",
       "mean     120.969852  ...    117.328216     56.406198    113.581071   \n",
       "std       12.647474  ...     56.973165     12.975121     31.473993   \n",
       "min       85.000000  ...      8.000000     21.000000     26.000000   \n",
       "25%      112.000000  ...     74.000000     47.000000     92.000000   \n",
       "50%      120.000000  ...    105.000000     55.000000    112.000000   \n",
       "75%      130.000000  ...    148.000000     65.000000    135.000000   \n",
       "max      157.000000  ...    289.000000     94.000000    202.000000   \n",
       "\n",
       "         hemoglobin  Urine protein  serum creatinine           AST  \\\n",
       "count  55692.000000        55692.0      55692.000000  55692.000000   \n",
       "mean      14.687151            1.0          0.885738     23.284888   \n",
       "std        1.437215            0.0          0.221524      5.955118   \n",
       "min       10.300000            1.0          0.100000      6.000000   \n",
       "25%       13.600000            1.0          0.800000     19.000000   \n",
       "50%       14.800000            1.0          0.900000     22.000000   \n",
       "75%       15.800000            1.0          1.000000     27.000000   \n",
       "max       19.100000            1.0         11.600000     41.000000   \n",
       "\n",
       "                ALT           Gtp  dental caries  \n",
       "count  55692.000000  55692.000000        55692.0  \n",
       "mean      22.418516     28.298984            0.0  \n",
       "std       10.070267     15.757805            0.0  \n",
       "min        1.000000      1.000000            0.0  \n",
       "25%       15.000000     17.000000            0.0  \n",
       "50%       20.000000     24.000000            0.0  \n",
       "75%       27.000000     35.000000            0.0  \n",
       "max       55.000000     82.000000            0.0  \n",
       "\n",
       "[8 rows x 23 columns]"
      ]
     },
     "execution_count": 15,
     "metadata": {},
     "output_type": "execute_result"
    }
   ],
   "source": [
    "df.describe()"
   ]
  },
  {
   "cell_type": "code",
   "execution_count": null,
   "id": "3bd81344-56a6-4ddd-bab7-0d9d0dcf219d",
   "metadata": {},
   "outputs": [],
   "source": []
  }
 ],
 "metadata": {
  "kernelspec": {
   "display_name": "Python 3 (ipykernel)",
   "language": "python",
   "name": "python3"
  },
  "language_info": {
   "codemirror_mode": {
    "name": "ipython",
    "version": 3
   },
   "file_extension": ".py",
   "mimetype": "text/x-python",
   "name": "python",
   "nbconvert_exporter": "python",
   "pygments_lexer": "ipython3",
   "version": "3.9.7"
  }
 },
 "nbformat": 4,
 "nbformat_minor": 5
}
